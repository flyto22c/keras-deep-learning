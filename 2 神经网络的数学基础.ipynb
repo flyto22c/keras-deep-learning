{
 "cells": [
  {
   "cell_type": "raw",
   "metadata": {},
   "source": [
    "~~~\n",
    "    数据类型：numpy（以及大多数其他库）中不存在字符串张量，因为张量存储在预先分配的连续内存段中，二字符串长度是可变的，无法使用这种存储方式\n",
    "2.2.8 现实世界的数据张量\n",
    "    向量数据：2D张量(samples,features)\n",
    "    时间序列数据或序列数据：3D张量(samples,timesteps,features)\n",
    "    图像：4D张量(samples,height,width,channels)或(samples,channels,height,width)\n",
    "    视频：5D张量(samples,frames,height,width,channels)或(samples,frames,channels,height,width)\n",
    "    通道在后：channels-last:TensorFlow默认\n",
    "    通道在前：channels-first:Theano默认\n",
    "2.3 张量运算\n",
    "    逐元素运算\n",
    "    广播\n",
    "    点积：(a,b,c,d) . (d,e) = (a,b,c,e)\n",
    "    张量变形：仿射变换(线性变换，从一个空间到另一个空间，对应Dense层)、旋转、缩放\n",
    "2.4 基于梯度的优化\n",
    "    优化器：SGD、Adagrad、RMSProp等；（SGD解决了两个问题：收敛速度、局部极小值点）\n",
    "    反向传播算法：本质上是对误差的反向传播，是激活函数o~(z)对z值微分的反向传播\n",
    "~~~"
   ]
  }
 ],
 "metadata": {
  "kernelspec": {
   "display_name": "Python [conda env:tf-py36]",
   "language": "python",
   "name": "conda-env-tf-py36-py"
  },
  "language_info": {
   "codemirror_mode": {
    "name": "ipython",
    "version": 3
   },
   "file_extension": ".py",
   "mimetype": "text/x-python",
   "name": "python",
   "nbconvert_exporter": "python",
   "pygments_lexer": "ipython3",
   "version": "3.6.8"
  },
  "toc": {
   "base_numbering": 1,
   "nav_menu": {},
   "number_sections": true,
   "sideBar": true,
   "skip_h1_title": false,
   "title_cell": "Table of Contents",
   "title_sidebar": "Contents",
   "toc_cell": false,
   "toc_position": {},
   "toc_section_display": true,
   "toc_window_display": false
  }
 },
 "nbformat": 4,
 "nbformat_minor": 2
}
