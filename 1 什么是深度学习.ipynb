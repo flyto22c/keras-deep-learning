{
 "cells": [
  {
   "cell_type": "code",
   "execution_count": null,
   "metadata": {},
   "outputs": [],
   "source": [
    "1、机器学习三要素\n",
    "    （1）输入的数据点\n",
    "    （2）预期输出的示例\n",
    "    （3）衡量算法好坏的方法：计算当前输出与预期输出的差距。调节这个差距的过程就是学习\n",
    "2、术语定义\n",
    "    浅层学习：网络的层数少\n",
    "    深度学习：网络层数一般10层以上\n",
    "    说明：神经网络的灵感来自神经生物学，但深度学习模型不是大脑模型。没有证据表明大脑学习机制与现代深度学习模型相同\n",
    "3、深度学习进展\n",
    "    图像分类\n",
    "    语音识别\n",
    "    手写文字转录\n",
    "    机器翻译\n",
    "    文本到语音转换\n",
    "    数字助理（谷歌即时 Google Now | 亚马逊 Alexa）\n",
    "    自动驾驶\n",
    "    广告定向投放（搜索|推荐）\n",
    "4、机器学习简史\n",
    "（1）概率建模\n",
    "    朴素贝叶斯：假设输入数据的特征都是独立的\n",
    "    逻辑回归：也是一种概率的分类算法\n",
    "（2）早期神经网络\n",
    "    返向传播算法+梯度下降优化\n",
    "（3）核方法\n",
    "    SVM：将数据映射到一个新的高纬度的表示\n",
    "    核函数：高效的计算数据点在新空间中的距离，从而避免对新表示进行直接计算\n",
    "    缺点：难以扩展到大型数据集；在图像分类等感知问题上的效果不好；是一种比较浅层的方法。\n",
    "（4）决策树、随机森林、梯度提升机\n",
    "    将弱学习器集成的技术\n",
    "（5）回到神经网络\n",
    "    深度的卷积神经网络已经成为计算机视觉任务的首选算法。\n",
    "    将特征工程完全自动化\n",
    "（6）机器学习现状\n",
    "    梯度提升机：用于浅层学习问题；处理结构化数据的问题；XGboost库\n",
    "    深度学习：用于感知问题；处理图像分类等感知问题；Keras库\n",
    "5、算法\n",
    "    问题：通过多层的梯度传播，神经网络的反馈信号会逐渐消失\n",
    "    解决：有利于梯度传播的方法（如 批标准化、残差连接、深度可分离卷积。可以训练上千层模型）"
   ]
  },
  {
   "cell_type": "markdown",
   "metadata": {},
   "source": [
    "![word embeddings vs. one hot encoding](./test.png)"
   ]
  },
  {
   "cell_type": "code",
   "execution_count": null,
   "metadata": {},
   "outputs": [],
   "source": []
  }
 ],
 "metadata": {
  "kernelspec": {
   "display_name": "Python [conda env:learn36]",
   "language": "python",
   "name": "conda-env-learn36-py"
  },
  "language_info": {
   "codemirror_mode": {
    "name": "ipython",
    "version": 3
   },
   "file_extension": ".py",
   "mimetype": "text/x-python",
   "name": "python",
   "nbconvert_exporter": "python",
   "pygments_lexer": "ipython3",
   "version": "3.6.8"
  },
  "toc": {
   "base_numbering": 1,
   "nav_menu": {},
   "number_sections": true,
   "sideBar": true,
   "skip_h1_title": false,
   "title_cell": "Table of Contents",
   "title_sidebar": "Contents",
   "toc_cell": false,
   "toc_position": {},
   "toc_section_display": true,
   "toc_window_display": false
  }
 },
 "nbformat": 4,
 "nbformat_minor": 2
}
