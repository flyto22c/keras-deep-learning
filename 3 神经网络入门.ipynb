{
 "cells": [
  {
   "cell_type": "raw",
   "metadata": {},
   "source": [
    "1、数据张量\n",
    "向量数据：2D张量(samples,features)                                       密集连接层处理（dense）relu\n",
    "时间序列数据或序列数据：3D张量(samples,timesteps,features)                       循环层处理（LSTM）\n",
    "图像：4D张量(samples,height,width,channels)或(samples,channels,height,width)           二维卷积层处理（Conv2D）\n",
    "视频：5D张量(samples,frames,height,width,channels)或(samples,frames,channels,height,width)\n",
    "多输出：有多个输出的神经网络可能有多个损失函数（每个输出对应一个损失函数）。但是梯度下降过程必须对应单个标量损失值。多损失函数取平均值变为一个标量值。值\n",
    "\n",
    "2、损失函数：\n",
    "    二分类问题：二元交叉熵（binary crossentropy）               最后一层sigmod函数\n",
    "    多分类问题：分类交叉熵（categorical crossentropy）           最后一层softmax函数；衡量两个概率分布之间的距离\n",
    "    回归问题：均方误差（mean-squared error）mse                绝对值误差  mae\n",
    "    序列学习问题：联结主义时序分类（CTC connection temporal classification）\n",
    "    交叉熵：用于处理输出概率值的模型\n",
    "    \n",
    "3、后端：\n",
    "    keras后端引擎：Tensorflow\\Theno\\CNTK\n",
    "    深度学习张量运算库：CPU（BLAS,Eigen）GPU（CUDA,cuDNN）\n",
    "\n",
    "4、定义模型的方法：\n",
    "    使用Sequential类：仅用于层的线性堆叠\n",
    "    函数式API：用于层组成的有向无环图，可以构建任意形式的架构"
   ]
  },
  {
   "cell_type": "code",
   "execution_count": null,
   "metadata": {},
   "outputs": [],
   "source": [
    "from keras import models\n",
    "from keras import layers\n",
    "\n",
    "network = models.Sequential()\n",
    "network.add(layers.Dense(512, activation='relu', input_shape=(28 * 28,)))\n",
    "network.add(layers.Dense(10, activation='softmax'))"
   ]
  },
  {
   "cell_type": "code",
   "execution_count": null,
   "metadata": {},
   "outputs": [],
   "source": [
    "from keras import models\n",
    "from keras import layers\n",
    "from keras import optimizers\n",
    "\n",
    "input_tensor = layers.Input(shape=(784,))\n",
    "x = layers.Dense(32,activation='relu')(input_tensor)\n",
    "output_tensor = layers.Dense(10,activation='softmax')(x)\n",
    "model = models.Model(inputs=input_tensor,outputs=output_tensor)"
   ]
  },
  {
   "cell_type": "code",
   "execution_count": null,
   "metadata": {},
   "outputs": [],
   "source": [
    "model.compile(optimizer=optimizers.RMSprop(lr=0.001),     \n",
    "                loss='mes',    \n",
    "                metrics=['accuracy']) \n",
    "model.fit(input_tensor,target_tensor,batch_size=128,epochs=10)"
   ]
  }
 ],
 "metadata": {
  "kernelspec": {
   "display_name": "Python [conda env:tf-py36]",
   "language": "python",
   "name": "conda-env-tf-py36-py"
  },
  "language_info": {
   "codemirror_mode": {
    "name": "ipython",
    "version": 3
   },
   "file_extension": ".py",
   "mimetype": "text/x-python",
   "name": "python",
   "nbconvert_exporter": "python",
   "pygments_lexer": "ipython3",
   "version": "3.6.8"
  },
  "toc": {
   "base_numbering": 1,
   "nav_menu": {},
   "number_sections": true,
   "sideBar": true,
   "skip_h1_title": false,
   "title_cell": "Table of Contents",
   "title_sidebar": "Contents",
   "toc_cell": false,
   "toc_position": {},
   "toc_section_display": true,
   "toc_window_display": false
  }
 },
 "nbformat": 4,
 "nbformat_minor": 2
}
